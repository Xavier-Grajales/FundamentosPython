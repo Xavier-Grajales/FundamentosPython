{
  "nbformat": 4,
  "nbformat_minor": 0,
  "metadata": {
    "colab": {
      "name": "CondicionalesCadenasBucles.ipynb",
      "provenance": [],
      "collapsed_sections": [],
      "authorship_tag": "ABX9TyN579OCJkynEOm0m9M9IAUg",
      "include_colab_link": true
    },
    "kernelspec": {
      "name": "python3",
      "display_name": "Python 3"
    },
    "language_info": {
      "name": "python"
    }
  },
  "cells": [
    {
      "cell_type": "markdown",
      "metadata": {
        "id": "view-in-github",
        "colab_type": "text"
      },
      "source": [
        "<a href=\"https://colab.research.google.com/github/Xavier-Grajales/FundamentosPython/blob/main/CondicionalesCadenasBucles.ipynb\" target=\"_parent\"><img src=\"https://colab.research.google.com/assets/colab-badge.svg\" alt=\"Open In Colab\"/></a>"
      ]
    },
    {
      "cell_type": "markdown",
      "source": [
        "# *Condicionales*\n",
        "Comenzando por condicionales básicos, tenemos a if y a else, if(si), else(si no). Es importante que se debe cumplif con la identación.\n",
        "\n",
        "sintaxis:\n",
        "\n",
        "if(tu_condicion):\n",
        "\n",
        "(identacion)Instruccion_Realizar\n",
        "\n",
        "else:\n",
        "\n",
        "(identacion)Instruccion_Realizar\n",
        "\n",
        "También tenemos el condicional elif(si no si)\n",
        "\n",
        "elif (tu_condicion):\n",
        "\n",
        "(identacion)Instruccion_Realizar"
      ],
      "metadata": {
        "id": "i46UX4jvkQXU"
      }
    },
    {
      "cell_type": "code",
      "source": [
        "a=28\n",
        "b=32\n",
        "\n",
        "#En este caso se entra al if porque la condición se cumple\n",
        "if a<b:\n",
        "  print(\"a es mayor que b\")\n",
        "else:\n",
        "  print(\"a es menor que b\")\n",
        "\n",
        "a=50\n",
        "b=32\n",
        "\n",
        "#En este caso se entra al else porque la condición no se cumple.\n",
        "if a<b:\n",
        "  print(\"a es mayor que b\")\n",
        "else:\n",
        "  print(\"a es menor que b\")"
      ],
      "metadata": {
        "colab": {
          "base_uri": "https://localhost:8080/"
        },
        "id": "Isb9-9s8lu0Z",
        "outputId": "004b5b7e-ad15-4fdf-fb38-19c6b6e2dd64"
      },
      "execution_count": null,
      "outputs": [
        {
          "output_type": "stream",
          "name": "stdout",
          "text": [
            "a es mayor que b\n",
            "a es menor que b\n"
          ]
        }
      ]
    },
    {
      "cell_type": "code",
      "source": [
        "a=28\n",
        "b=28\n",
        "\n",
        "if a<b:\n",
        "  print(\"a es mayor que b\")\n",
        "elif(a==b):\n",
        "  print(\"a es igual que b\")\n",
        "else:\n",
        "  print(\"a es menor que b\")"
      ],
      "metadata": {
        "colab": {
          "base_uri": "https://localhost:8080/"
        },
        "id": "Rw87BNywmBGw",
        "outputId": "16837eb4-e224-4bf9-a4e2-60572752ab8a"
      },
      "execution_count": null,
      "outputs": [
        {
          "output_type": "stream",
          "name": "stdout",
          "text": [
            "a es igual que b\n"
          ]
        }
      ]
    },
    {
      "cell_type": "markdown",
      "source": [
        "# Concatenación\n",
        "\n",
        "Es importante mencionar que para concatenar, no se pueden concatenar valores númericos por lo que se tiene que convertir a una cadena.\n",
        "\n",
        "Existe más de una forma de concatenar, por ejemplo la siguiente:\n",
        "\n",
        "### Sintaxis\n",
        "nombre=\"Xavier\"\n",
        "\n",
        "print(f'Hola {nombre}')\n",
        "\n",
        "Esto nos imprimiria Hola Xavier"
      ],
      "metadata": {
        "id": "fcCkQ3u0qgOM"
      }
    },
    {
      "cell_type": "code",
      "source": [
        "nombre=\"Xavier\"\n",
        "\n",
        "print(f'Hola {nombre}')"
      ],
      "metadata": {
        "colab": {
          "base_uri": "https://localhost:8080/"
        },
        "id": "_gSvaZE2tdMw",
        "outputId": "2b0ff34d-252e-4e91-c69f-c3b7f3cbf009"
      },
      "execution_count": null,
      "outputs": [
        {
          "output_type": "stream",
          "name": "stdout",
          "text": [
            "Hola Xavier\n"
          ]
        }
      ]
    },
    {
      "cell_type": "code",
      "source": [
        "cadena1=\"Mi nombre es xavier \"\n",
        "cadena2=\"mi edad es \"\n",
        "edad=20\n",
        "cadena3=\" años\"\n",
        "\n",
        "print(f'{cadena1}{cadena2}{str(edad)}{cadena3}')"
      ],
      "metadata": {
        "colab": {
          "base_uri": "https://localhost:8080/"
        },
        "id": "5Bss1aMCq6xr",
        "outputId": "09306cce-8f2f-4ae2-cf3b-2be8a8a51f57"
      },
      "execution_count": null,
      "outputs": [
        {
          "output_type": "stream",
          "name": "stdout",
          "text": [
            "Mi nombre es xavier mi edad es 20 años\n"
          ]
        }
      ]
    },
    {
      "cell_type": "markdown",
      "source": [
        "# Input\n",
        "Input es la opción que nos permite recibir información que un usuario nos proporciona, en este caso lo que se recibe del usuario siempre es un string.\n",
        "\n"
      ],
      "metadata": {
        "id": "dJ3q0JI9vON1"
      }
    },
    {
      "cell_type": "code",
      "source": [
        "x=int(input(\"Dame un número: \"))\n",
        "# Forma ternaria de imprimir\n",
        "print(\"Par\" if x%2==0 else \"impar\")"
      ],
      "metadata": {
        "colab": {
          "base_uri": "https://localhost:8080/"
        },
        "id": "7RNYwVY8vysT",
        "outputId": "45805c45-ddaa-4292-f487-f525de93b6f2"
      },
      "execution_count": null,
      "outputs": [
        {
          "output_type": "stream",
          "name": "stdout",
          "text": [
            "Dame un número: 7\n",
            "impar\n"
          ]
        }
      ]
    },
    {
      "cell_type": "markdown",
      "source": [
        "# ¿Qué es una cadena?\n",
        "Una cadena es un conjunto de carácteres que forman una palabra  o una serie de números, el indice de una carena se refiere a las posiciones que hay dentro de la cadena es importante mencionar que si nosotros tenemos una cadena como 'Hola' el indice en la posición 0 es H la posición 1 sería la letra o"
      ],
      "metadata": {
        "id": "_Iczklp4wpIH"
      }
    },
    {
      "cell_type": "code",
      "source": [
        "cadena='Hola'\n",
        "print(cadena[0])#Esta linea hace referencia a encontrar el valor de la cadena con el indice 0\n",
        "print(cadena[1])\n",
        "\n",
        "''' \n",
        "En python se pueden utilizar indices negativos\n",
        "aspciado al cambio de orden en la lectura de \n",
        "la cadena, es decir se inicia desde el final\n",
        "de tal manera que en nuestro ejemplo imprimir\n",
        "el indice -1 es a es decir la última letra\n",
        "de la cadena\n",
        "'''\n",
        "\n",
        "print(cadena[-1])"
      ],
      "metadata": {
        "colab": {
          "base_uri": "https://localhost:8080/"
        },
        "id": "LYS9mzRvxM8l",
        "outputId": "7c16cbe0-9ad5-408f-cdac-18085489d570"
      },
      "execution_count": null,
      "outputs": [
        {
          "output_type": "stream",
          "name": "stdout",
          "text": [
            "H\n",
            "o\n",
            "a\n"
          ]
        }
      ]
    },
    {
      "cell_type": "code",
      "source": [
        "# También podemos saber cuál es la longitud de la cadena usando len\n",
        "print(len(cadena))"
      ],
      "metadata": {
        "colab": {
          "base_uri": "https://localhost:8080/"
        },
        "id": "FfnUcyzDzbD0",
        "outputId": "3b4a20b5-f938-4a17-e452-cfa62d3cd2cd"
      },
      "execution_count": null,
      "outputs": [
        {
          "output_type": "stream",
          "name": "stdout",
          "text": [
            "4\n"
          ]
        }
      ]
    },
    {
      "cell_type": "code",
      "source": [
        "# Se puede imprimir de un intervalo a otro los carácteres de la siguiente forma\n",
        "print(cadena[0:1])\n",
        "print(cadena[0:2])\n",
        "print(cadena[0:3])\n",
        "print(cadena[0:4])"
      ],
      "metadata": {
        "colab": {
          "base_uri": "https://localhost:8080/"
        },
        "id": "BvKaSO5Mz-dH",
        "outputId": "d58fc80a-12b3-4526-93e9-f95155a0e13b"
      },
      "execution_count": null,
      "outputs": [
        {
          "output_type": "stream",
          "name": "stdout",
          "text": [
            "H\n",
            "Ho\n",
            "Hol\n",
            "Hola\n"
          ]
        }
      ]
    },
    {
      "cell_type": "markdown",
      "source": [
        "# **Ciclo for**\n",
        "## *¿Qué es un objeto iterable?*\n",
        "\n",
        "Un objeto que devuelve una secuencia de valores. Una cadenan es un ejemplo de objeto iterable.\n"
      ],
      "metadata": {
        "id": "VUFDz64_0WU0"
      }
    },
    {
      "cell_type": "code",
      "source": [
        "#iterando sobre cadenas\n",
        "print(cadena)\n",
        "\n",
        "#Imprimit toda la cadena\n",
        "for letra in cadena:\n",
        "  print(letra) #separa caracter con caracter\n",
        "print()\n",
        "print()\n",
        "#Limitar la cadena a la impresion de solo 3 caracteres\n",
        "for letra in cadena[0:3]:\n",
        "  print(letra) #separa caracter con caracter\n"
      ],
      "metadata": {
        "colab": {
          "base_uri": "https://localhost:8080/"
        },
        "id": "PHcXZ0kh0rkG",
        "outputId": "76b73bc5-e2cf-4980-cae2-1a2c2a181c14"
      },
      "execution_count": null,
      "outputs": [
        {
          "output_type": "stream",
          "name": "stdout",
          "text": [
            "Hola\n",
            "H\n",
            "o\n",
            "l\n",
            "a\n",
            "\n",
            "\n",
            "H\n",
            "o\n",
            "l\n"
          ]
        }
      ]
    },
    {
      "cell_type": "code",
      "source": [
        "nombre1=\"Xavier\"\n",
        "for i in nombre1:\n",
        "  print(i)"
      ],
      "metadata": {
        "colab": {
          "base_uri": "https://localhost:8080/"
        },
        "id": "036KmxTZs_2D",
        "outputId": "9dd4be79-0287-48e1-befc-f8c63dc3a95d"
      },
      "execution_count": 2,
      "outputs": [
        {
          "output_type": "stream",
          "name": "stdout",
          "text": [
            "X\n",
            "a\n",
            "v\n",
            "i\n",
            "e\n",
            "r\n"
          ]
        }
      ]
    },
    {
      "cell_type": "markdown",
      "source": [
        "## *¿Qué es range?*\n",
        "Es una función que regresa una secuencia de números, iniciando en 0 por default, e incrementado por 1(también por default), y se detiene **antes** de un  número (sin incluir al número)\n",
        "\n",
        "range(**inicio**, **fin**, **paso**)\n"
      ],
      "metadata": {
        "id": "owPotNAX2hAU"
      }
    },
    {
      "cell_type": "code",
      "source": [
        "inicio=1 #Es el número en el que se inicia\n",
        "fin=6 #no incluirá al número 6\n",
        "paso=2 #es el oncremento que tendra\n",
        "\n",
        "for i in range(inicio, fin, paso):\n",
        "  print(i)"
      ],
      "metadata": {
        "colab": {
          "base_uri": "https://localhost:8080/"
        },
        "id": "PG092Zz84PV6",
        "outputId": "fde81ff5-a366-4729-e981-f0fff23cb791"
      },
      "execution_count": null,
      "outputs": [
        {
          "output_type": "stream",
          "name": "stdout",
          "text": [
            "1\n",
            "3\n",
            "5\n"
          ]
        }
      ]
    },
    {
      "cell_type": "code",
      "source": [
        "for i in range(0,101,10):\n",
        "  if i<1:\n",
        "    print(\"a\"*(i+1))\n",
        "  elif i>1:\n",
        "    print(\"a\"*i)"
      ],
      "metadata": {
        "colab": {
          "base_uri": "https://localhost:8080/"
        },
        "id": "2E8Pf7Aut283",
        "outputId": "695032c1-b9c4-4075-d491-a21472ac172d"
      },
      "execution_count": 6,
      "outputs": [
        {
          "output_type": "stream",
          "name": "stdout",
          "text": [
            "a\n",
            "aaaaaaaaaa\n",
            "aaaaaaaaaaaaaaaaaaaa\n",
            "aaaaaaaaaaaaaaaaaaaaaaaaaaaaaa\n",
            "aaaaaaaaaaaaaaaaaaaaaaaaaaaaaaaaaaaaaaaa\n",
            "aaaaaaaaaaaaaaaaaaaaaaaaaaaaaaaaaaaaaaaaaaaaaaaaaa\n",
            "aaaaaaaaaaaaaaaaaaaaaaaaaaaaaaaaaaaaaaaaaaaaaaaaaaaaaaaaaaaa\n",
            "aaaaaaaaaaaaaaaaaaaaaaaaaaaaaaaaaaaaaaaaaaaaaaaaaaaaaaaaaaaaaaaaaaaaaa\n",
            "aaaaaaaaaaaaaaaaaaaaaaaaaaaaaaaaaaaaaaaaaaaaaaaaaaaaaaaaaaaaaaaaaaaaaaaaaaaaaaaa\n",
            "aaaaaaaaaaaaaaaaaaaaaaaaaaaaaaaaaaaaaaaaaaaaaaaaaaaaaaaaaaaaaaaaaaaaaaaaaaaaaaaaaaaaaaaaaa\n",
            "aaaaaaaaaaaaaaaaaaaaaaaaaaaaaaaaaaaaaaaaaaaaaaaaaaaaaaaaaaaaaaaaaaaaaaaaaaaaaaaaaaaaaaaaaaaaaaaaaaaa\n"
          ]
        }
      ]
    },
    {
      "cell_type": "markdown",
      "source": [
        "# *While*\n",
        "El ciclo while es un ciclo en el que es necesario cumplir la condición, en el punto en el que ya no se cumpla la condicióin se saldrá del ciclo y se continuará con el código que se encuentre fuera del ciclo"
      ],
      "metadata": {
        "id": "xa6j1OwQpZBx"
      }
    },
    {
      "cell_type": "code",
      "source": [
        "contador=0\n",
        "while contador<=2:\n",
        "  contador+=1\n",
        "  print(\"HOLA\")\n",
        "  \n",
        "  "
      ],
      "metadata": {
        "colab": {
          "base_uri": "https://localhost:8080/"
        },
        "id": "JvgUsYG4xQLo",
        "outputId": "99ded582-8f45-48a6-c65f-5bba63ff5fd2"
      },
      "execution_count": 15,
      "outputs": [
        {
          "output_type": "stream",
          "name": "stdout",
          "text": [
            "HOLA\n",
            "HOLA\n",
            "HOLA\n"
          ]
        }
      ]
    },
    {
      "cell_type": "markdown",
      "source": [
        "# Uso de break y continue\n",
        "* *break* se usa para salir de un ciclo\n",
        "* *continue* se usa para volver a la evaluación de la condición del ciclo sin eejcutar el siguiente código"
      ],
      "metadata": {
        "id": "mHpEoPJv3hC3"
      }
    },
    {
      "cell_type": "code",
      "source": [
        "#Continue es la instrucción que nos permite saltarnos una instrucción.\n",
        "\n",
        "for i in range(10):\n",
        "  print(i)\n",
        "  continue #Esta instrucción me permite saltarme la linea que sigue\n",
        "  print(\"***\")"
      ],
      "metadata": {
        "colab": {
          "base_uri": "https://localhost:8080/"
        },
        "id": "CwErXjv73ePh",
        "outputId": "32007665-515b-4268-84b1-a5b4091d582a"
      },
      "execution_count": 17,
      "outputs": [
        {
          "output_type": "stream",
          "name": "stdout",
          "text": [
            "0\n",
            "1\n",
            "2\n",
            "3\n",
            "4\n",
            "5\n",
            "6\n",
            "7\n",
            "8\n",
            "9\n",
            "0\n",
            "1\n",
            "2\n",
            "3\n",
            "4\n",
            "5\n",
            "6\n",
            "7\n",
            "8\n",
            "9\n"
          ]
        }
      ]
    },
    {
      "cell_type": "code",
      "source": [
        "for i in range(11): #Este programa nos permite conocer los números pares del 1 al 10 \n",
        "  if i%2!=0:\n",
        "    continue\n",
        "  print(i)"
      ],
      "metadata": {
        "colab": {
          "base_uri": "https://localhost:8080/"
        },
        "id": "pr4a2hUi4N7N",
        "outputId": "9e200737-d2c7-49a2-afb8-9c7b5091dab2"
      },
      "execution_count": 18,
      "outputs": [
        {
          "output_type": "stream",
          "name": "stdout",
          "text": [
            "0\n",
            "2\n",
            "4\n",
            "6\n",
            "8\n",
            "10\n"
          ]
        }
      ]
    },
    {
      "cell_type": "code",
      "source": [
        "for i in range(100):\n",
        "  print(i)\n",
        "  if i==10:\n",
        "    break\n",
        "\n",
        "print(\"Ya se salió del ciclo,el valor de i es:\"+str(i))"
      ],
      "metadata": {
        "colab": {
          "base_uri": "https://localhost:8080/"
        },
        "id": "Kog2DH6u6MaD",
        "outputId": "b5dc651f-8e7a-4ebb-fb83-5289c2852304"
      },
      "execution_count": 19,
      "outputs": [
        {
          "output_type": "stream",
          "name": "stdout",
          "text": [
            "0\n",
            "1\n",
            "2\n",
            "3\n",
            "4\n",
            "5\n",
            "6\n",
            "7\n",
            "8\n",
            "9\n",
            "10\n",
            "Ya se salió del ciclo,el valor de i es:10\n"
          ]
        }
      ]
    },
    {
      "cell_type": "code",
      "source": [
        "palabra=\"Viva la revolución\"\n",
        "while len(palabra)!=0:\n",
        "  longitud=len(palabra)\n",
        "  print(palabra)\n",
        "  palabra=palabra[:longitud-1]\n",
        "  if palabra[-1]=='a':\n",
        "    break"
      ],
      "metadata": {
        "colab": {
          "base_uri": "https://localhost:8080/"
        },
        "id": "mW3pWiOU6Us5",
        "outputId": "e04f4f51-aad6-4e3b-fe4f-766574d76ae1"
      },
      "execution_count": 20,
      "outputs": [
        {
          "output_type": "stream",
          "name": "stdout",
          "text": [
            "Viva la revolución\n",
            "Viva la revolució\n",
            "Viva la revoluci\n",
            "Viva la revoluc\n",
            "Viva la revolu\n",
            "Viva la revol\n",
            "Viva la revo\n",
            "Viva la rev\n",
            "Viva la re\n",
            "Viva la r\n",
            "Viva la \n"
          ]
        }
      ]
    }
  ]
}