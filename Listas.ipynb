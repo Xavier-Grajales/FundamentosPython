{
  "nbformat": 4,
  "nbformat_minor": 0,
  "metadata": {
    "colab": {
      "name": "Listas.ipynb",
      "provenance": [],
      "collapsed_sections": [],
      "authorship_tag": "ABX9TyMYT5BuDk3osrIL54IqlB2I"
    },
    "kernelspec": {
      "name": "python3",
      "display_name": "Python 3"
    },
    "language_info": {
      "name": "python"
    }
  },
  "cells": [
    {
      "cell_type": "markdown",
      "source": [
        "# Listas en Python\n",
        "La Lista es una estructura de datos muy importante en los lenguajes de programación donde:\n",
        "*   Se representa una colección de elementos ordenados.\n",
        "*   Puede contener elementos repetidos.\n",
        "*   Cada elemento de la lista tiene un índice que lo ubica\n",
        "dentro de la misma\n",
        "*   Mutable puede editarse o modificarse mediante sus métodos\n",
        "\n",
        "\n",
        "![image.png](data:image/png;base64,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)\n",
        "\n",
        "\n"
      ],
      "metadata": {
        "id": "bNu-VWIY1_Gr"
      }
    },
    {
      "cell_type": "code",
      "execution_count": 1,
      "metadata": {
        "colab": {
          "base_uri": "https://localhost:8080/"
        },
        "id": "anHNuWTK1UCu",
        "outputId": "86a3c605-97d7-4068-a293-44595c326a51"
      },
      "outputs": [
        {
          "output_type": "stream",
          "name": "stdout",
          "text": [
            "[1, 2, 3, 4, 1, True, 'P', 'Primera lista']\n",
            "['a', 'b', 'c']\n"
          ]
        }
      ],
      "source": [
        "#Una lista siempre empiza en el índice 0\n",
        "#     Indices    0 1 2 3 4\n",
        "Primera_lista = [1,2,3,4,1,True,chr(80),\"Primera lista\"]\n",
        "Lista_String=[\"a\",\"b\",\"c\"]\n",
        "print(Primera_lista)\n",
        "print(Lista_String)\n",
        "Lista_giron_string=[\"Lunes\",\"Martes\",\"Miercoles\",\"Jueves\",\"Viernes\"]\n",
        "Lista_rocio=[\"Manzana\",\"Uva\", \"Toronja\", \"Pera\", \"Piña\"]\n",
        "Lista_zurisadai=[1,\"Rojo\",]\n"
      ]
    },
    {
      "cell_type": "markdown",
      "source": [
        "## *Método append*\n",
        "Esto nos permite agregar un elemento a llsta.\n",
        "\n",
        "Sintaxis:\n",
        "- Tu_lista.append(elemento_a_agregar)"
      ],
      "metadata": {
        "id": "lvKmqAHy2a63"
      }
    },
    {
      "cell_type": "code",
      "source": [
        "lista_frutas=[\"Platano\",\"Manzana\",\"Melón\"]\n",
        "lista_frutas.append(\"Sandia\")\n",
        "print(lista_frutas)\n",
        "lista_frutas.append(\"Mango\")\n",
        "print(lista_frutas)#El elemento siempre se agrega hasta el final de la lista"
      ],
      "metadata": {
        "colab": {
          "base_uri": "https://localhost:8080/"
        },
        "id": "n2gcGtr32QRj",
        "outputId": "51698417-6e96-4220-95aa-9d870819edfe"
      },
      "execution_count": 2,
      "outputs": [
        {
          "output_type": "stream",
          "name": "stdout",
          "text": [
            "['Platano', 'Manzana', 'Melón', 'Sandia']\n",
            "['Platano', 'Manzana', 'Melón', 'Sandia', 'Mango']\n"
          ]
        }
      ]
    },
    {
      "cell_type": "code",
      "source": [
        "'''\n",
        "Tema: Listas \n",
        "Métodos: Insert\n",
        "'''\n",
        "numeros=[1,2,3,4,8,6]\n",
        "print(numeros)\n",
        "numeros.insert(4,5)#En insert los argumentos del método son (posicion,elemento_a_insertar)\n",
        "print(numeros)\n",
        "numeros.insert(0,0)\n",
        "print(numeros)\n"
      ],
      "metadata": {
        "colab": {
          "base_uri": "https://localhost:8080/"
        },
        "id": "AI--8zPg4HBh",
        "outputId": "93a53d0b-6040-4c8b-8757-819ca5cba92d"
      },
      "execution_count": 13,
      "outputs": [
        {
          "output_type": "stream",
          "name": "stdout",
          "text": [
            "[1, 2, 3, 4, 8, 6]\n",
            "[1, 2, 3, 4, 5, 8, 6]\n",
            "[0, 1, 2, 3, 4, 5, 8, 6]\n"
          ]
        }
      ]
    },
    {
      "cell_type": "code",
      "source": [
        "'''\n",
        "Tema: Listas \n",
        "Métodos: remote\n",
        "'''\n",
        "numeros.remove(6) #Argemento(numero_a_eliminar)\n",
        "print(numeros)\n"
      ],
      "metadata": {
        "colab": {
          "base_uri": "https://localhost:8080/"
        },
        "id": "DW_Fz4m95f0T",
        "outputId": "c3c1be55-015b-46f4-dca0-88f3e4fb0f8e"
      },
      "execution_count": 14,
      "outputs": [
        {
          "output_type": "stream",
          "name": "stdout",
          "text": [
            "[0, 1, 2, 3, 4, 5, 8]\n"
          ]
        }
      ]
    },
    {
      "cell_type": "code",
      "source": [
        "'''\n",
        "Tema: Listas \n",
        "Métodos: index\n",
        "'''\n",
        "edades=[22,40,39,13,18]\n",
        "print(edades)\n",
        "print(edades.index(39))#Esto es solo para buscar en la lista completa\n",
        "print(edades.index(39,0,3))#Esto es para buscar de un punto determinado de la lista(numero_a_buscar, inicio_busqueda,final_busqueda+1)\n",
        "\n"
      ],
      "metadata": {
        "colab": {
          "base_uri": "https://localhost:8080/"
        },
        "id": "amvqIgPm6RKw",
        "outputId": "ab8141b1-9103-471a-cedc-b40c28d20ff0"
      },
      "execution_count": 19,
      "outputs": [
        {
          "output_type": "stream",
          "name": "stdout",
          "text": [
            "[22, 40, 39, 13, 18]\n",
            "2\n",
            "2\n"
          ]
        }
      ]
    },
    {
      "cell_type": "code",
      "source": [
        "'''\n",
        "Tema: Listas \n",
        "Métodos: Pop\n",
        "'''\n",
        "#           Indices    0       1     2     3\n",
        "Lista_computadoras=[\"Lenovo\",\"Mac\",\"Hp\",\"Sony\"]\n",
        "print(Lista_computadoras)\n",
        "pop_computadora = Lista_computadoras.pop(3)\n",
        "print(pop_computadora)\n",
        "print(\"Nuestra lista\")\n",
        "print(Lista_computadoras)\n",
        "Lista_computadoras.pop(1)\n",
        "print(Lista_computadoras)\n"
      ],
      "metadata": {
        "colab": {
          "base_uri": "https://localhost:8080/"
        },
        "id": "g9T9UNcq7z7z",
        "outputId": "2aa27f69-41a8-449d-d3a0-8a63327787cc"
      },
      "execution_count": 21,
      "outputs": [
        {
          "output_type": "stream",
          "name": "stdout",
          "text": [
            "['Lenovo', 'Mac', 'Hp', 'Sony']\n",
            "Sony\n",
            "Nuestra lista\n",
            "['Lenovo', 'Mac', 'Hp']\n",
            "['Lenovo', 'Hp']\n"
          ]
        }
      ]
    },
    {
      "cell_type": "code",
      "source": [
        "'''\n",
        "Tema: Listas \n",
        "Métodos: count\n",
        "'''\n",
        "# Este método es para contar cuántos elementos iguales hay en la lista.\n",
        "Lista_Cervezas=[\"Victoria\",\"Indio\",\"Heineken\",\"Corona\",\"Corona\",\"Victoria\",\"Victoria\",\"corona\"]\n",
        "print(Lista_Cervezas)\n",
        "contador_cervezas = Lista_Cervezas.count(\"corona\") #En este caso hay más de un elemento llamado corona en la lista sin embargo no está escrito igual\n",
        "print(\"Me pidieron\",contador_cervezas,\"corona\")"
      ],
      "metadata": {
        "colab": {
          "base_uri": "https://localhost:8080/"
        },
        "id": "-xWZ9uR48eq3",
        "outputId": "549b4fa3-bb95-4144-c9dd-8867fc358fa9"
      },
      "execution_count": 23,
      "outputs": [
        {
          "output_type": "stream",
          "name": "stdout",
          "text": [
            "['Victoria', 'Indio', 'Heineken', 'Corona', 'Corona', 'Victoria', 'Victoria', 'corona']\n",
            "Me pidieron 1 corona\n"
          ]
        }
      ]
    },
    {
      "cell_type": "code",
      "source": [
        "'''\n",
        "Tema: Listas\n",
        "Método: Reverse\n",
        "'''   \n",
        "# Lo único que hace es modificar el orden de la lista    \n",
        "Lista_calificaciones=[5,6,7,8,9,10]\n",
        "print(Lista_calificaciones)\n",
        "Lista_calificaciones.reverse()\n",
        "print(Lista_calificaciones)\n"
      ],
      "metadata": {
        "id": "93a13VGg9PEj"
      },
      "execution_count": null,
      "outputs": []
    },
    {
      "cell_type": "code",
      "source": [
        "'''\n",
        "Tema: Listas\n",
        "Método: Extend\n",
        "'''   \n",
        "Lista_Televisiones=[\"Samsumg\",\"LG\",\"Philips\"]\n",
        "print(Lista_Televisiones)\n",
        "Lista_Televisiones2=[\"Sony\",\"Panasonic\"]\n",
        "print(Lista_Televisiones2)\n",
        "Lista_Televisiones.extend(Lista_Televisiones)\n",
        "print(Lista_Televisiones)\n",
        "\n"
      ],
      "metadata": {
        "colab": {
          "base_uri": "https://localhost:8080/"
        },
        "id": "5JtbAG-DB4DQ",
        "outputId": "698161c4-d4b8-479b-d2b5-d1580ce4e6e4"
      },
      "execution_count": 24,
      "outputs": [
        {
          "output_type": "stream",
          "name": "stdout",
          "text": [
            "['Samsumg', 'LG', 'Philips']\n",
            "['Sony', 'Panasonic']\n",
            "['Samsumg', 'LG', 'Philips', 'Samsumg', 'LG', 'Philips']\n"
          ]
        }
      ]
    },
    {
      "cell_type": "code",
      "source": [
        "'''\n",
        "Tema: Listas\n",
        "Recorrer listas\n",
        "'''   \n",
        "Lista_precios=[10,100,50,25,75]\n",
        "for i in Lista_precios:\n",
        "    print(i)\n"
      ],
      "metadata": {
        "colab": {
          "base_uri": "https://localhost:8080/"
        },
        "id": "M0y4eCVNCN5U",
        "outputId": "14d37a29-b1b3-494c-deaa-b9fbc173f5b3"
      },
      "execution_count": 25,
      "outputs": [
        {
          "output_type": "stream",
          "name": "stdout",
          "text": [
            "10\n",
            "100\n",
            "50\n",
            "25\n",
            "75\n"
          ]
        }
      ]
    },
    {
      "cell_type": "code",
      "source": [
        "for b in range(len(Lista_precios)-1,-1,-1):\n",
        "  print(Lista_precios[b])"
      ],
      "metadata": {
        "colab": {
          "base_uri": "https://localhost:8080/"
        },
        "id": "pQBZlBr-CSF_",
        "outputId": "ea0334c9-de1b-4f30-979a-eeff9af23b16"
      },
      "execution_count": 28,
      "outputs": [
        {
          "output_type": "stream",
          "name": "stdout",
          "text": [
            "75\n",
            "25\n",
            "50\n",
            "100\n",
            "10\n"
          ]
        }
      ]
    },
    {
      "cell_type": "code",
      "source": [
        "c=0\n",
        "while(c<len(Lista_precios)):\n",
        "  print(Lista_precios[c])\n",
        "  c=c+1"
      ],
      "metadata": {
        "colab": {
          "base_uri": "https://localhost:8080/"
        },
        "id": "4-sAqOkHCeor",
        "outputId": "4313e28f-90d4-48fc-d28a-71ebfabde700"
      },
      "execution_count": 29,
      "outputs": [
        {
          "output_type": "stream",
          "name": "stdout",
          "text": [
            "10\n",
            "100\n",
            "50\n",
            "25\n",
            "75\n"
          ]
        }
      ]
    },
    {
      "cell_type": "code",
      "source": [
        "#Nos permite copiar una lista\n",
        "z=[]\n",
        "z=Lista_precios.copy()\n",
        "print(z)\n"
      ],
      "metadata": {
        "colab": {
          "base_uri": "https://localhost:8080/"
        },
        "id": "pUWf53VTEMo5",
        "outputId": "35ebbeed-405a-40ed-b4f1-5ea05d99907f"
      },
      "execution_count": 30,
      "outputs": [
        {
          "output_type": "stream",
          "name": "stdout",
          "text": [
            "[10, 100, 50, 25, 75]\n"
          ]
        }
      ]
    },
    {
      "cell_type": "code",
      "source": [
        "Lista_precios.sort()\n",
        "print(\"Lista de menor a mayor:\\n\",Lista_precios)\n",
        "Lista_precios.sort(reverse=True)\n",
        "print(\"Lista de mayor a menor:\\n\",Lista_precios)"
      ],
      "metadata": {
        "colab": {
          "base_uri": "https://localhost:8080/"
        },
        "id": "o1stS2OUEZkL",
        "outputId": "45ba7c28-52f7-4ca8-b0f8-1face5caedd7"
      },
      "execution_count": 31,
      "outputs": [
        {
          "output_type": "stream",
          "name": "stdout",
          "text": [
            "Lista de menor a mayor:\n",
            " [10, 25, 50, 75, 100]\n",
            "Lista de mayor a menor:\n",
            " [100, 75, 50, 25, 10]\n"
          ]
        }
      ]
    },
    {
      "cell_type": "code",
      "source": [
        ""
      ],
      "metadata": {
        "id": "2iCgzxzoEbF4"
      },
      "execution_count": null,
      "outputs": []
    }
  ]
}