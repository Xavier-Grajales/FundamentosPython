{
  "nbformat": 4,
  "nbformat_minor": 0,
  "metadata": {
    "colab": {
      "name": "Funciones.ipynb",
      "provenance": [],
      "collapsed_sections": []
    },
    "kernelspec": {
      "name": "python3",
      "display_name": "Python 3"
    },
    "language_info": {
      "name": "python"
    }
  },
  "cells": [
    {
      "cell_type": "markdown",
      "source": [
        "# ¿Qué es una función?\n",
        "Es un bloque de código que ejecuta una operación deseada y tiene nombre. Además, se encuentra apartado del bloque de código principal.\n",
        "\n",
        "    def nombreFuncion (lista de parámetros):\n",
        "      sentencias\n",
        "\n"
      ],
      "metadata": {
        "id": "wOqIzZkxytGB"
      }
    },
    {
      "cell_type": "markdown",
      "source": [
        "En esencia se trata de una forma de llamar a un conjunto de operaciones para que podamos realizar dichas operaciones todas las veces que queramos tan sólo escribiendo su nombre"
      ],
      "metadata": {
        "id": "FL3WEPHMyuFg"
      }
    },
    {
      "cell_type": "markdown",
      "source": [
        "## ¿Qué es un parámetro?\n",
        "Una variable que se usa en la definición de una función, son valores que se espera que la función reciba para su correcto funcionamiento"
      ],
      "metadata": {
        "id": "zMbK20-9Lg9X"
      }
    },
    {
      "cell_type": "markdown",
      "source": [
        "## Tipos de parámetros\n",
        "### Parámetros obligadorios (mandatory parameters)\n",
        "Son parámetros que deben pasarse a la función de manera obligatoria, ya que sin ellos, existiría un error de ejecución por valores faltantes\n",
        "\n",
        "    def funcion(par1,par2,par3):\n",
        "        instrucciones\n",
        "### Parámetros opcionales (optional parameters)\n",
        "Son parámetros que no es necesario que se pasen a la función, ya que de antemano en la definición de la función se les asigna un valor por default.\n",
        "\n",
        "    def funcion(par1=valor1,par2=valor2,par3=valor3):\n",
        "        instrucciones\n",
        "\n",
        "\n",
        "\n",
        "\n",
        "### Ejemplo de parámetros obligatorios"
      ],
      "metadata": {
        "id": "0-veA3aAMVQ5"
      }
    },
    {
      "cell_type": "code",
      "source": [
        "def miPrimerFuncion(parametro1,parametro2):\n",
        "  print(\"Mi primer parámetro es \"+str(parametro1))\n",
        "  print(\"Mi segundo parámetro es \"+str(parametro2))\n",
        "\n",
        "miPrimerFuncion(\"Un saludo\",\"Una despedida\")\n"
      ],
      "metadata": {
        "id": "Zjnr-xPOEl4V",
        "colab": {
          "base_uri": "https://localhost:8080/"
        },
        "outputId": "fec58824-f0ea-4904-f308-ee89a656c06d"
      },
      "execution_count": null,
      "outputs": [
        {
          "output_type": "stream",
          "name": "stdout",
          "text": [
            "Mi primer parámetro es Un saludo\n",
            "Mi segundo parámetro es Una despedida\n"
          ]
        }
      ]
    },
    {
      "cell_type": "code",
      "source": [
        "##Esto produce un error, ya que faltan los parámetros\n",
        "miPrimerFuncion()"
      ],
      "metadata": {
        "id": "6JTx_ZfiOScH",
        "colab": {
          "base_uri": "https://localhost:8080/",
          "height": 183
        },
        "outputId": "95cd9e4f-4d07-4636-a156-0018f5514adb"
      },
      "execution_count": null,
      "outputs": [
        {
          "output_type": "error",
          "ename": "TypeError",
          "evalue": "ignored",
          "traceback": [
            "\u001b[0;31m---------------------------------------------------------------------------\u001b[0m",
            "\u001b[0;31mTypeError\u001b[0m                                 Traceback (most recent call last)",
            "\u001b[0;32m<ipython-input-2-b481e19aaf5b>\u001b[0m in \u001b[0;36m<module>\u001b[0;34m()\u001b[0m\n\u001b[1;32m      1\u001b[0m \u001b[0;31m##Esto produce un error, ya que faltan los parámetros\u001b[0m\u001b[0;34m\u001b[0m\u001b[0;34m\u001b[0m\u001b[0;34m\u001b[0m\u001b[0m\n\u001b[0;32m----> 2\u001b[0;31m \u001b[0mmiPrimerFuncion\u001b[0m\u001b[0;34m(\u001b[0m\u001b[0;34m)\u001b[0m\u001b[0;34m\u001b[0m\u001b[0;34m\u001b[0m\u001b[0m\n\u001b[0m",
            "\u001b[0;31mTypeError\u001b[0m: miPrimerFuncion() missing 2 required positional arguments: 'parametro1' and 'parametro2'"
          ]
        }
      ]
    },
    {
      "cell_type": "markdown",
      "source": [
        "### Ejemplo de parámetros opcionales"
      ],
      "metadata": {
        "id": "bkqtzaYEPJ4o"
      }
    },
    {
      "cell_type": "code",
      "source": [
        "def miSegundaFuncion(par1=\"Juan\",par2=\"Pérez\"):\n",
        "  print(\"Mi nombre es: \"+str(par1))\n",
        "  print(\"Mi apellido es: \"+str(par2))\n",
        "\n",
        "#Sin asignar parámetros, se toman los valores por default\n",
        "miSegundaFuncion()\n",
        "print()\n",
        "#Asignando los parámetros  de forma implícita en el orden definido\n",
        "miSegundaFuncion(\"Armando\",\"Rosales\")\n",
        "print()\n",
        "#Asignando los parámetros de forma explícita en el orden definido\n",
        "miSegundaFuncion(par1=\"Armando\",par2=\"Rosales\")\n",
        "print()\n",
        "#Escribiendo los nombres de los parámetros en desorden\n",
        "miSegundaFuncion(par2=\"Rosales\",par1=\"Armando\")\n",
        "print()\n",
        "#Asignando el valor del primer parámetro de forma implícita\n",
        "# y asignando el segundo parámetro de forma explícita\n",
        "miSegundaFuncion(\"Armando\",par2=\"Rosales\")\n",
        "print()\n"
      ],
      "metadata": {
        "id": "9PkOBDozE5XC",
        "colab": {
          "base_uri": "https://localhost:8080/"
        },
        "outputId": "9919658c-2603-4996-c1fa-ef9396fa6e6f"
      },
      "execution_count": null,
      "outputs": [
        {
          "output_type": "stream",
          "name": "stdout",
          "text": [
            "Mi nombre es: Juan\n",
            "Mi apellido es: Pérez\n",
            "\n",
            "Mi nombre es: Armando\n",
            "Mi apellido es: Rosales\n",
            "\n",
            "Mi nombre es: Armando\n",
            "Mi apellido es: Rosales\n",
            "\n",
            "Mi nombre es: Armando\n",
            "Mi apellido es: Rosales\n",
            "\n",
            "Mi nombre es: Armando\n",
            "Mi apellido es: Rosales\n",
            "\n"
          ]
        }
      ]
    },
    {
      "cell_type": "code",
      "source": [
        "miSegundaFuncion(\"Armando\")"
      ],
      "metadata": {
        "colab": {
          "base_uri": "https://localhost:8080/"
        },
        "id": "lopu5tS67kCb",
        "outputId": "8004eca8-e0eb-42bc-9129-a2b0972151d5"
      },
      "execution_count": null,
      "outputs": [
        {
          "output_type": "stream",
          "name": "stdout",
          "text": [
            "Mi nombre es: Armando\n",
            "Mi apellido es: Pérez\n"
          ]
        }
      ]
    },
    {
      "cell_type": "code",
      "source": [
        "##Esta línea de código no se ejecutará, ya que al asignar explícitamente el primer elemento\n",
        "#se vuelve necesario asignar explícitamente también al otro\n",
        "miSegundaFuncion(par1=\"Rodrigo\",\"Zavala\")"
      ],
      "metadata": {
        "id": "ISlJkkbLFNNb",
        "colab": {
          "base_uri": "https://localhost:8080/",
          "height": 130
        },
        "outputId": "5df862f6-7d44-4021-a6a4-39bdb5656b1d"
      },
      "execution_count": null,
      "outputs": [
        {
          "output_type": "error",
          "ename": "SyntaxError",
          "evalue": "ignored",
          "traceback": [
            "\u001b[0;36m  File \u001b[0;32m\"<ipython-input-5-7acac9227f93>\"\u001b[0;36m, line \u001b[0;32m3\u001b[0m\n\u001b[0;31m    miSegundaFuncion(par1=\"Rodrigo\",\"Zavala\")\u001b[0m\n\u001b[0m                                   ^\u001b[0m\n\u001b[0;31mSyntaxError\u001b[0m\u001b[0;31m:\u001b[0m positional argument follows keyword argument\n"
          ]
        }
      ]
    },
    {
      "cell_type": "code",
      "source": [
        "def fun0(p1=1,p2=2,p3=3):\n",
        "  print(p1,p2,p3)\n"
      ],
      "metadata": {
        "id": "gPsbp7H78C9m"
      },
      "execution_count": null,
      "outputs": []
    },
    {
      "cell_type": "code",
      "source": [
        "fun0(99,p3=2,p2=5)"
      ],
      "metadata": {
        "colab": {
          "base_uri": "https://localhost:8080/"
        },
        "id": "4rWdMeUx8KoQ",
        "outputId": "34764361-e3ac-41eb-c087-d609acaca43b"
      },
      "execution_count": null,
      "outputs": [
        {
          "output_type": "stream",
          "name": "stdout",
          "text": [
            "99 5 2\n"
          ]
        }
      ]
    },
    {
      "cell_type": "code",
      "source": [
        "def nombre(nombre=\"Faltante\",apellido=\"Faltante\"):\n",
        "  print(\"Mi nombre es: \"+str(nombre))\n",
        "  print(\"Mi apellido es: \"+str(apellido))\n",
        "\n",
        "nombre()"
      ],
      "metadata": {
        "colab": {
          "base_uri": "https://localhost:8080/"
        },
        "id": "0yFSpmDu8wHJ",
        "outputId": "40851c45-f474-4649-b8dc-9cd970b955d1"
      },
      "execution_count": null,
      "outputs": [
        {
          "output_type": "stream",
          "name": "stdout",
          "text": [
            "Mi nombre es: Faltante\n",
            "Mi apellido es: Faltante\n"
          ]
        }
      ]
    },
    {
      "cell_type": "markdown",
      "source": [
        "### Ejemplo de combinación de parámetros obligatorios y opcionales\n",
        "\n"
      ],
      "metadata": {
        "id": "t3QHwthnyuIV"
      }
    },
    {
      "cell_type": "code",
      "source": [
        "def miFun3(par1,par2,par3=\"-Enseguida, serán 10 pesos\",par4=\"-Gracias\"):\n",
        "  print(par1)\n",
        "  print(\"-Buenos días ¿en qué puedo servirle?\")\n",
        "  print(par2)\n",
        "  print(par3)\n",
        "  print(par4)\n",
        "\n",
        "miFun3(\"-Buenos días\",\"-¿Podría darme 1 kilo de tortillas por favor?\")\n"
      ],
      "metadata": {
        "id": "9eDih2blPaNM",
        "colab": {
          "base_uri": "https://localhost:8080/"
        },
        "outputId": "a9c72920-1e89-46a8-b5b3-e8b607d3397d"
      },
      "execution_count": null,
      "outputs": [
        {
          "output_type": "stream",
          "name": "stdout",
          "text": [
            "-Buenos días\n",
            "-Buenos días ¿en qué puedo servirle?\n",
            "-¿Podría darme 1 kilo de tortillas por favor?\n",
            "-Enseguida, serán 10 pesos\n",
            "-Gracias\n"
          ]
        }
      ]
    },
    {
      "cell_type": "code",
      "source": [
        "##La siguiente definición de función generará un error de sintaxis\n",
        "def muFun4(par1=\"-Buenos días\",par2=\"-¿Podría darme 1 kilo de tortillas por favor?\",par3,par4):\n",
        "  print(par1)\n",
        "  print(\"-Buenos días ¿en qué puedo servirle?\")\n",
        "  print(par2)\n",
        "  print(par3)\n",
        "  print(par4)"
      ],
      "metadata": {
        "id": "5EfurmUKPgDM"
      },
      "execution_count": null,
      "outputs": []
    },
    {
      "cell_type": "markdown",
      "source": [
        "### Parámetros de longitud variable\n",
        "Son argumentos que pueden recibir más de un valor, existen dos tipos:\n",
        "* *args\n",
        "* *kwargs (key Word Argument)\n",
        "\n",
        "\n",
        "La palabra key word se refiere a claves de un objeto tipo diccionario, dado que es un tema que se verá mañana sólo se mostrará un ejemplo de este último tipo\n",
        "### Ejemplo de uso de *args"
      ],
      "metadata": {
        "id": "cYcxzNd6yuLL"
      }
    },
    {
      "cell_type": "code",
      "execution_count": null,
      "metadata": {
        "id": "bEyGoqbZEzFt",
        "colab": {
          "base_uri": "https://localhost:8080/"
        },
        "outputId": "41574626-45a5-4204-ab5f-af0ae4f46509"
      },
      "outputs": [
        {
          "output_type": "stream",
          "name": "stdout",
          "text": [
            "Hola\n",
            "Venderé verduras\n",
            "En el tianguis\n",
            "A 60 pesos\n"
          ]
        }
      ],
      "source": [
        "def fun1(*args):\n",
        "  for parametro in args:\n",
        "    print(parametro)\n",
        "\n",
        "fun1(\"Hola\",\"Venderé verduras\",\"En el tianguis\",\"A 60 pesos\")"
      ]
    },
    {
      "cell_type": "code",
      "source": [
        "print(end=\"\\n Hola mundo\",\"a\",\"b\",\"c\",\"d\",\"e\",sep=\"///////\")"
      ],
      "metadata": {
        "colab": {
          "base_uri": "https://localhost:8080/",
          "height": 130
        },
        "id": "LD3llb8t-Fvp",
        "outputId": "b72b6337-fdfe-4d9e-88bc-e5012b5e4b55"
      },
      "execution_count": null,
      "outputs": [
        {
          "output_type": "error",
          "ename": "SyntaxError",
          "evalue": "ignored",
          "traceback": [
            "\u001b[0;36m  File \u001b[0;32m\"<ipython-input-26-e693f00f83ae>\"\u001b[0;36m, line \u001b[0;32m1\u001b[0m\n\u001b[0;31m    print(end=\"\\n Hola mundo\",\"a\",\"b\",\"c\",\"d\",\"e\",sep=\"///////\")\u001b[0m\n\u001b[0m                             ^\u001b[0m\n\u001b[0;31mSyntaxError\u001b[0m\u001b[0;31m:\u001b[0m positional argument follows keyword argument\n"
          ]
        }
      ]
    },
    {
      "cell_type": "code",
      "source": [
        "def suma(*args,el1=0,el2=0):\n",
        "  suma=0\n",
        "  print(type(args))\n",
        "  for elemento in args:\n",
        "    suma+=elemento\n",
        "  print(el1,el2)\n",
        "  return el1+el2+suma\n",
        "\n",
        "print(suma(10,12))"
      ],
      "metadata": {
        "id": "4LS696vxX_rG",
        "colab": {
          "base_uri": "https://localhost:8080/"
        },
        "outputId": "33cfba90-3310-41f0-eec1-a42e4ebaa225"
      },
      "execution_count": null,
      "outputs": [
        {
          "output_type": "stream",
          "name": "stdout",
          "text": [
            "<class 'tuple'>\n",
            "0 0\n",
            "22\n"
          ]
        }
      ]
    },
    {
      "cell_type": "markdown",
      "source": [
        "### Ejemplo de uso de **kwargs"
      ],
      "metadata": {
        "id": "MjvqGltbe4Yg"
      }
    },
    {
      "cell_type": "code",
      "source": [
        "\n",
        "def fun2(**kwargs):\n",
        "  print(type(kwargs))\n",
        "  for llaves,contenido in kwargs.items():\n",
        "    print(\" \"+llaves+\": \",contenido)\n",
        "\n",
        "fun2(nombre=\"Mauricio\",apellido=\"Jordan\",edad=\"99\")"
      ],
      "metadata": {
        "id": "aRMy0khkBZ3Y",
        "colab": {
          "base_uri": "https://localhost:8080/"
        },
        "outputId": "22e231e0-bff2-4ea1-d18d-54508078089f"
      },
      "execution_count": null,
      "outputs": [
        {
          "output_type": "stream",
          "name": "stdout",
          "text": [
            "<class 'dict'>\n",
            " nombre:  Mauricio\n",
            " apellido:  Jordan\n",
            " edad:  99\n"
          ]
        }
      ]
    },
    {
      "cell_type": "markdown",
      "source": [
        "### Ejemplo de uso de ambos"
      ],
      "metadata": {
        "id": "NgPMmODOe9DA"
      }
    },
    {
      "cell_type": "code",
      "source": [
        "##El orden correcto para combinar ambos tipos de argumento de tamaño variable\n",
        "def fun3(*args,**kwargs):\n",
        "  print(args)\n",
        "  print(kwargs)\n",
        "fun3(\"1\",\"2\",\"3\",producto=\"Chocolate\",precio=10,peso=1)"
      ],
      "metadata": {
        "id": "8SQH15bMWsQC"
      },
      "execution_count": null,
      "outputs": []
    },
    {
      "cell_type": "code",
      "source": [
        "##Esto produce un error de sintaxis\n",
        "def fun4(**kwargs,*args):\n",
        "  print(args)\n",
        "  print(kwargs)"
      ],
      "metadata": {
        "id": "HbganNJ5Y0sn"
      },
      "execution_count": null,
      "outputs": []
    },
    {
      "cell_type": "markdown",
      "source": [
        "# Ejemplos de funciones"
      ],
      "metadata": {
        "id": "0XC4pHoDZZDK"
      }
    },
    {
      "cell_type": "code",
      "source": [
        "def otorgarBeca(promedio,necesidad_economica,potencial):\n",
        "  if promedio>=8 and (necesidad_economica==True or potencial==\"Alto\"):\n",
        "    return True\n",
        "  return False\n",
        "\n",
        "print(otorgarBeca(9.9,True,\"Alto\"))"
      ],
      "metadata": {
        "id": "F72iAxYNZCLl",
        "colab": {
          "base_uri": "https://localhost:8080/"
        },
        "outputId": "c4e1bbed-fa8c-4359-a5d8-3dd42bd8fbd4"
      },
      "execution_count": null,
      "outputs": [
        {
          "output_type": "stream",
          "name": "stdout",
          "text": [
            "True\n"
          ]
        }
      ]
    },
    {
      "cell_type": "code",
      "source": [
        "def imprimirPiramide(pisos):\n",
        "  for i in range(pisos):\n",
        "    print((\"*\"*(i+1)).center(pisos))\n",
        "\n",
        "imprimirPiramide(25)"
      ],
      "metadata": {
        "id": "hBgkeFy7ZYYl",
        "colab": {
          "base_uri": "https://localhost:8080/"
        },
        "outputId": "f81569e3-8df6-48d6-e41b-0ef9d7a0bff6"
      },
      "execution_count": null,
      "outputs": [
        {
          "output_type": "stream",
          "name": "stdout",
          "text": [
            "            *            \n",
            "            **           \n",
            "           ***           \n",
            "           ****          \n",
            "          *****          \n",
            "          ******         \n",
            "         *******         \n",
            "         ********        \n",
            "        *********        \n",
            "        **********       \n",
            "       ***********       \n",
            "       ************      \n",
            "      *************      \n",
            "      **************     \n",
            "     ***************     \n",
            "     ****************    \n",
            "    *****************    \n",
            "    ******************   \n",
            "   *******************   \n",
            "   ********************  \n",
            "  *********************  \n",
            "  ********************** \n",
            " *********************** \n",
            " ************************\n",
            "*************************\n"
          ]
        }
      ]
    },
    {
      "cell_type": "code",
      "source": [
        "def imprimirPiramideD(pisos):\n",
        "  for i in range(pisos):\n",
        "    print((\"*\"*(i+1)).rjust(pisos))\n",
        "imprimirPiramideD(5)"
      ],
      "metadata": {
        "id": "UjyDwsDJgyNA",
        "colab": {
          "base_uri": "https://localhost:8080/"
        },
        "outputId": "1df2e532-4398-46b9-ae78-81975742a5ac"
      },
      "execution_count": null,
      "outputs": [
        {
          "output_type": "stream",
          "name": "stdout",
          "text": [
            "    *\n",
            "   **\n",
            "  ***\n",
            " ****\n",
            "*****\n"
          ]
        }
      ]
    },
    {
      "cell_type": "code",
      "source": [
        "##La recursividad se da cuando mandas a llamar a una función dentro de sí misma\n",
        "#Para que la recursividad funcione, es necesario que se tenga una condición de\n",
        "#salida, esto evitará que se continue ejecutando el código.\n",
        "def recursividadfib(n):\n",
        "  if n==1 or n==2:\n",
        "    return 1\n",
        "  return recursividadfib(n-2)+recursividadfib(n-1)\n",
        "\n",
        "for i in range(20):\n",
        "  print(recursividadfib(i+1),end=\",\")"
      ],
      "metadata": {
        "id": "AL_dC3UgiiyI",
        "colab": {
          "base_uri": "https://localhost:8080/"
        },
        "outputId": "e26d3134-dbf8-4ad9-9a06-79be3dfd4002"
      },
      "execution_count": null,
      "outputs": [
        {
          "output_type": "stream",
          "name": "stdout",
          "text": [
            "1,1,2,3,5,8,13,21,34,55,89,144,233,377,610,987,1597,2584,4181,6765,"
          ]
        }
      ]
    },
    {
      "cell_type": "code",
      "source": [
        "def variosResultados(num):\n",
        "  return num, num**2, num**3\n",
        "\n",
        "print(variosResultados(9))\n",
        "x1,x2,x3=variosResultados(9)\n",
        "print(x1,x2,x3)"
      ],
      "metadata": {
        "id": "7ocV9N7ft0ES",
        "colab": {
          "base_uri": "https://localhost:8080/"
        },
        "outputId": "9ca44445-4b3d-4b0f-e12c-a0adc206fdfc"
      },
      "execution_count": null,
      "outputs": [
        {
          "output_type": "stream",
          "name": "stdout",
          "text": [
            "(9, 81, 729)\n",
            "9 81 729\n"
          ]
        }
      ]
    },
    {
      "cell_type": "code",
      "source": [
        "##La siguiente línea de código produce un error, ya que se\n",
        "#proporcionan dos variables, pero la función arroja tres valores\n",
        "x1,x2=variosResultados(9)"
      ],
      "metadata": {
        "id": "HFwPkN3Ouuq8",
        "colab": {
          "base_uri": "https://localhost:8080/",
          "height": 200
        },
        "outputId": "577afe34-ac93-43ee-fee8-6581a360724d"
      },
      "execution_count": null,
      "outputs": [
        {
          "output_type": "error",
          "ename": "ValueError",
          "evalue": "ignored",
          "traceback": [
            "\u001b[0;31m---------------------------------------------------------------------------\u001b[0m",
            "\u001b[0;31mValueError\u001b[0m                                Traceback (most recent call last)",
            "\u001b[0;32m<ipython-input-37-d75b9a0bc955>\u001b[0m in \u001b[0;36m<module>\u001b[0;34m()\u001b[0m\n\u001b[1;32m      1\u001b[0m \u001b[0;31m##La siguiente línea de código produce un error, ya que se\u001b[0m\u001b[0;34m\u001b[0m\u001b[0;34m\u001b[0m\u001b[0;34m\u001b[0m\u001b[0m\n\u001b[1;32m      2\u001b[0m \u001b[0;31m#proporcionan dos variables, pero la función arroja tres valores\u001b[0m\u001b[0;34m\u001b[0m\u001b[0;34m\u001b[0m\u001b[0;34m\u001b[0m\u001b[0m\n\u001b[0;32m----> 3\u001b[0;31m \u001b[0mx1\u001b[0m\u001b[0;34m,\u001b[0m\u001b[0mx2\u001b[0m\u001b[0;34m=\u001b[0m\u001b[0mvariosResultados\u001b[0m\u001b[0;34m(\u001b[0m\u001b[0;36m9\u001b[0m\u001b[0;34m)\u001b[0m\u001b[0;34m\u001b[0m\u001b[0;34m\u001b[0m\u001b[0m\n\u001b[0m",
            "\u001b[0;31mValueError\u001b[0m: too many values to unpack (expected 2)"
          ]
        }
      ]
    },
    {
      "cell_type": "code",
      "source": [
        "##La siguiente línea de código no produce un error, ya que\n",
        "#todos los valores se guardan dentro de x1 como si\n",
        "#fuera una tupla\n",
        "x1=variosResultados(9)\n",
        "print(x1)\n",
        "print(type(x1))"
      ],
      "metadata": {
        "id": "6y2EtDkou4qc",
        "colab": {
          "base_uri": "https://localhost:8080/"
        },
        "outputId": "8f313c7d-2f2c-4502-940c-14cd221169f7"
      },
      "execution_count": null,
      "outputs": [
        {
          "output_type": "stream",
          "name": "stdout",
          "text": [
            "(9, 81, 729)\n",
            "<class 'tuple'>\n"
          ]
        }
      ]
    },
    {
      "cell_type": "markdown",
      "source": [
        "## Casteos\n",
        "Consiste en cambiar un tipo de dato a otro, generalmente para realizar operaciones entre tipos de datos iguales. Por ejemplo, no se puede sumar una cadena y un entero.\n",
        "\n",
        "* str()\n",
        "* bool()\n",
        "* int()\n",
        "* float()"
      ],
      "metadata": {
        "id": "ItHapNsEqGZv"
      }
    },
    {
      "cell_type": "code",
      "source": [
        "v1=str(999)\n",
        "v2=bool(\"True\")\n",
        "v3=int(\"10\")\n",
        "v4=float(\"10.22\")\n",
        "v5=int(True)\n",
        "v6=int(66.534)\n",
        "print(\"Entero a cadena\",v1,type(v1))\n",
        "print(\"Cadena a booleano\",v2,type(v2))\n",
        "print(\"Cadena a entero\",v3,type(v3))\n",
        "print(\"Cadena a flotante\",v4,type(v4))\n",
        "print(\"Booleano a entero\",v5,type(v5))\n",
        "print(\"Flotante a entero (hay pérdida de información)\",v6,type(v6))"
      ],
      "metadata": {
        "id": "8Rl5bRuyqSw8",
        "colab": {
          "base_uri": "https://localhost:8080/"
        },
        "outputId": "3124a8a9-1c6d-4e94-9557-734fd2619d29"
      },
      "execution_count": null,
      "outputs": [
        {
          "output_type": "stream",
          "name": "stdout",
          "text": [
            "Entero a cadena 999 <class 'str'>\n",
            "Cadena a booleano True <class 'bool'>\n",
            "Cadena a entero 10 <class 'int'>\n",
            "Cadena a flotante 10.22 <class 'float'>\n",
            "Booleano a entero 1 <class 'int'>\n",
            "Flotante a entero (hay pérdida de información) 66 <class 'int'>\n"
          ]
        }
      ]
    },
    {
      "cell_type": "markdown",
      "source": [
        "## Funciones del módulo math\n",
        "\n",
        "Un módulo es un archivo donde se definen atributos y métodos, o variables y funciones, un paquete es un conjunto de módulos y una biblioteca es un conjunto de paquetes.\n",
        "\n",
        "Las funciones pertenecientes al módulo math nos permiten realizar operaciones matemáticas sobre número reales que no estan disponibles por defecto en python. Para números complejos es requerido usar el módulo cmath\n",
        "Para más información, visitar los siguientes enlaces:\n",
        "* https://docs.python.org/3/library/math.html\n",
        "* https://docs.python.org/3/library/cmath.html\n",
        "\n",
        "Algunos métodos del objeto math son:\n",
        "* math.sqrt(x)\n",
        "* math.pow(x,y)\n",
        "* math.fabs(x)\n",
        "* math.exp(x)\n",
        "* math.radians(x)\n",
        "* math.degrees(x)\n",
        "* math.log(x,base)\n",
        "* math.cos(x)\n",
        "* math.sin(x)\n",
        "* math.tan(x)\n",
        "* math.acos(x)\n",
        "* math.asin(x)\n",
        "* math.atan(x)\n",
        "\n",
        "Algunas constantes de math son:\n",
        "* math.pi\n",
        "* math.e\n",
        "* math.tau\n",
        "* math.inf"
      ],
      "metadata": {
        "id": "IMX7h5Q3nNPX"
      }
    },
    {
      "cell_type": "code",
      "source": [
        "##La siguiente línea nos permite importar el módulo\n",
        "import math\n",
        "for i in range(0,5):\n",
        "  rad=math.pi*i/2\n",
        "  print(\"El coseno de  {0} radianes ({1}°) es:\".format(rad,rad*180/math.pi))\n",
        "  print(math.cos(rad))"
      ],
      "metadata": {
        "id": "0AL2Rd48lwk2",
        "colab": {
          "base_uri": "https://localhost:8080/"
        },
        "outputId": "dd3c9562-8957-4ef1-e39f-22250d711376"
      },
      "execution_count": null,
      "outputs": [
        {
          "output_type": "stream",
          "name": "stdout",
          "text": [
            "El coseno de  0.0 radianes (0.0°) es:\n",
            "1.0\n",
            "El coseno de  1.5707963267948966 radianes (90.0°) es:\n",
            "6.123233995736766e-17\n",
            "El coseno de  3.141592653589793 radianes (180.0°) es:\n",
            "-1.0\n",
            "El coseno de  4.71238898038469 radianes (270.0°) es:\n",
            "-1.8369701987210297e-16\n",
            "El coseno de  6.283185307179586 radianes (360.0°) es:\n",
            "1.0\n"
          ]
        }
      ]
    },
    {
      "cell_type": "code",
      "source": [
        "for i in range(0,5):\n",
        "  rad=math.pi*i/2\n",
        "  print(\"El seno de  {0} radianes ({1}°) es:\".format(rad,math.degrees(rad)))\n",
        "  print(math.sin(rad))"
      ],
      "metadata": {
        "id": "O5T1hTYWpSEB"
      },
      "execution_count": null,
      "outputs": []
    },
    {
      "cell_type": "code",
      "source": [
        "print(str(math.degrees(math.atan(math.inf)))+\"°\")"
      ],
      "metadata": {
        "id": "W1mQ4Td8vkTe"
      },
      "execution_count": null,
      "outputs": []
    },
    {
      "cell_type": "code",
      "source": [
        "print(math.log(100,10))\n",
        "print(math.fabs(-9999.23))\n",
        "print(math.sqrt(81))\n",
        "print(math.pow(2,10))"
      ],
      "metadata": {
        "id": "f_TXZRBLv4nT"
      },
      "execution_count": null,
      "outputs": []
    },
    {
      "cell_type": "code",
      "source": [
        "math.cos(10)**2+math.sin(10)**2"
      ],
      "metadata": {
        "id": "nY7Zze0eyUsg",
        "colab": {
          "base_uri": "https://localhost:8080/"
        },
        "outputId": "81600c8e-a63e-447b-d3e5-019c2ad18261"
      },
      "execution_count": null,
      "outputs": [
        {
          "output_type": "execute_result",
          "data": {
            "text/plain": [
              "1.0"
            ]
          },
          "metadata": {},
          "execution_count": 2
        }
      ]
    },
    {
      "cell_type": "code",
      "source": [
        "def cuadrados():\n",
        "  suma=0\n",
        "  for i in range(0,11,1):\n",
        "    print(math.pow(i,2))\n",
        "    suma+=math.pow(i,2)\n",
        "  print(\"La suma total es: \",suma)\n",
        "cuadrados()"
      ],
      "metadata": {
        "colab": {
          "base_uri": "https://localhost:8080/"
        },
        "id": "HLkyCxCqxKXf",
        "outputId": "9c465a5d-fea6-4209-ea7c-2784c3b17911"
      },
      "execution_count": null,
      "outputs": [
        {
          "output_type": "stream",
          "name": "stdout",
          "text": [
            "0.0\n",
            "1.0\n",
            "4.0\n",
            "9.0\n",
            "16.0\n",
            "25.0\n",
            "36.0\n",
            "49.0\n",
            "64.0\n",
            "81.0\n",
            "100.0\n",
            "La suma total es:  385.0\n"
          ]
        }
      ]
    },
    {
      "cell_type": "code",
      "source": [
        ""
      ],
      "metadata": {
        "id": "q4LMfy_0y1Mp"
      },
      "execution_count": null,
      "outputs": []
    }
  ]
}